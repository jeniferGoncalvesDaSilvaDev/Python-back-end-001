{
  "nbformat": 4,
  "nbformat_minor": 0,
  "metadata": {
    "colab": {
      "provenance": [],
      "authorship_tag": "ABX9TyMj9qtlrC4O3dUHfNo7jlrT",
      "include_colab_link": true
    },
    "kernelspec": {
      "name": "python3",
      "display_name": "Python 3"
    },
    "language_info": {
      "name": "python"
    }
  },
  "cells": [
    {
      "cell_type": "markdown",
      "metadata": {
        "id": "view-in-github",
        "colab_type": "text"
      },
      "source": [
        "<a href=\"https://colab.research.google.com/github/jeniferGoncalvesDaSilvaDev/Python-back-end-001/blob/main/aula-para-seguidor-instagram.ipynb\" target=\"_parent\"><img src=\"https://colab.research.google.com/assets/colab-badge.svg\" alt=\"Open In Colab\"/></a>"
      ]
    },
    {
      "cell_type": "code",
      "execution_count": 16,
      "metadata": {
        "colab": {
          "base_uri": "https://localhost:8080/"
        },
        "id": "sHBckx0Hzw2b",
        "outputId": "f7fc4f21-96a6-47e7-ea72-44a422584714"
      },
      "outputs": [
        {
          "output_type": "stream",
          "name": "stdout",
          "text": [
            "Digite seu salário: 100.00\n",
            "Seu salário líquido é de R$ 90.00\n"
          ]
        }
      ],
      "source": [
        "#calculo de salario liquido\n",
        "salario = float(input('Digite seu salário: '))\n",
        "\n",
        "if salario < 2000:\n",
        "  #para descobri o valor do desconto\n",
        "  valor_desconto = salario * (10/100)\n",
        "  #usando o valor do desconto, desconta o salario, menor que R$2000.00\n",
        "  calculo_desconto = salario - valor_desconto\n",
        "  print(f'Seu salário líquido é de R$ {calculo_desconto:.2f}')\n",
        "else:\n",
        "  valor_desconto_salario_maior = salario * (20/100)\n",
        "  desconto = salario - valor_desconto_salario_maior\n",
        "  print(f'Seu salário líquido é de R$ {desconto:.2f}')\n",
        "\n"
      ]
    }
  ]
}